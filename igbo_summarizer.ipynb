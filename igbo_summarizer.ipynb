{
  "nbformat": 4,
  "nbformat_minor": 0,
  "metadata": {
    "colab": {
      "name": "igbo_summarizer.ipynb",
      "provenance": [],
      "authorship_tag": "ABX9TyNBbj11edUwqrxj1h7CmEtf",
      "include_colab_link": true
    },
    "kernelspec": {
      "name": "python3",
      "display_name": "Python 3"
    },
    "language_info": {
      "name": "python"
    }
  },
  "cells": [
    {
      "cell_type": "markdown",
      "metadata": {
        "id": "view-in-github",
        "colab_type": "text"
      },
      "source": [
        "<a href=\"https://colab.research.google.com/github/IgnatiusEzeani/IGBONLP/blob/master/igbo_summarizer.ipynb\" target=\"_parent\"><img src=\"https://colab.research.google.com/assets/colab-badge.svg\" alt=\"Open In Colab\"/></a>"
      ]
    },
    {
      "cell_type": "markdown",
      "source": [
        "# AfricanNLP Paper Sketch\n",
        "Title: **IgboSum1000 - Introducing the Igbo Text Summarization Dataset**\n",
        "\n",
        "The aim of this project is to create the first standard Igbo summarisation of dataset.\n",
        "\n",
        "*Project Key Steps and Methods:*\n",
        "1. [Data collection and processing:](#DataCollection)\n",
        "2. Building Baseline Automatic Summarizers\n",
        "\t- TextRank\n",
        "\t- LexRank\n",
        "\t- TFIDF+Embedding\n",
        "\n",
        "3. Perform Human Evaluation\n",
        "\t- Score [1 - 5]\n",
        "  - Contains key information\n",
        "  - Fluent\n",
        "  - Readable\n",
        "  - Quality\n",
        "\t\n",
        "4. Discussions and Future work\n",
        "\t- Limitations\n",
        "\t- Impact of translation error\n",
        "\t- Non-human references\n",
        "\t- Abstractive techniques\n",
        "\t- Future work\n"
      ],
      "metadata": {
        "id": "kFabmjWEQ6Id"
      }
    },
    {
      "cell_type": "markdown",
      "source": [
        "<a name=\"DataCollection\"></a>\n",
        "## Data Collection\n",
        "For this work, we collected news articles generated data from the website of Anambra Broadcasting Service - a major radio and television broadcast station in the southeaster state of Anambra.\n",
        "<!-- Write something about the categories of the articles -->\n",
        "ABS (or Wikipedia) 1000 articles + summaries opic areas/categories (e.g. news, politics, history, health care, entertainment, Translate to Igbo if in English"
      ],
      "metadata": {
        "id": "4e-rb23VQ6mZ"
      }
    },
    {
      "cell_type": "code",
      "source": [
        ""
      ],
      "metadata": {
        "id": "5tAHgyorxAPy"
      },
      "execution_count": null,
      "outputs": []
    },
    {
      "cell_type": "code",
      "source": [
        ""
      ],
      "metadata": {
        "id": "fyiV_0dSxANg"
      },
      "execution_count": null,
      "outputs": []
    },
    {
      "cell_type": "markdown",
      "source": [
        ""
      ],
      "metadata": {
        "id": "chmmWfkzQ64K"
      }
    },
    {
      "cell_type": "markdown",
      "source": [
        ""
      ],
      "metadata": {
        "id": "GesJ5ggiQ656"
      }
    },
    {
      "cell_type": "markdown",
      "source": [
        ""
      ],
      "metadata": {
        "id": "gIXAgihtQ7P-"
      }
    },
    {
      "cell_type": "markdown",
      "source": [
        ""
      ],
      "metadata": {
        "id": "RYnoZJWsQ7Zf"
      }
    },
    {
      "cell_type": "markdown",
      "source": [
        ""
      ],
      "metadata": {
        "id": "NTwMFYi8Q7bK"
      }
    },
    {
      "cell_type": "markdown",
      "source": [
        ""
      ],
      "metadata": {
        "id": "Q-kO0cr4Q7nR"
      }
    }
  ]
}